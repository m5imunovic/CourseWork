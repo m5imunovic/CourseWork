{
 "cells": [
  {
   "cell_type": "markdown",
   "metadata": {},
   "source": [
    "# Setup environment"
   ]
  },
  {
   "cell_type": "markdown",
   "metadata": {},
   "source": [
    "First import necessary packages"
   ]
  },
  {
   "cell_type": "code",
   "execution_count": 1,
   "metadata": {
    "collapsed": true
   },
   "outputs": [],
   "source": [
    "import pandas as pd\n",
    "import numpy as np\n",
    "import matplotlib.pyplot as plt\n",
    "import seaborn as sns\n",
    "from sklearn import model_selection\n",
    "from sklearn import feature_selection\n",
    "\n",
    "import preprocess as pp\n",
    "\n",
    "\n",
    "sns.set()\n",
    "%matplotlib inline\n",
    "\n",
    "import os\n",
    "os.makedirs(\"./images\", exist_ok=True)\n",
    "os.makedirs(\"./data\", exist_ok=True)\n"
   ]
  },
  {
   "cell_type": "markdown",
   "metadata": {},
   "source": [
    "# Preprocess data"
   ]
  },
  {
   "cell_type": "markdown",
   "metadata": {
    "collapsed": true
   },
   "source": [
    "Read raw data and add column names to it. \n",
    "DataFrame info displays some basic information about dataset. We can see that there are 3189 instances without NA objects"
   ]
  },
  {
   "cell_type": "code",
   "execution_count": 2,
   "metadata": {},
   "outputs": [
    {
     "name": "stdout",
     "output_type": "stream",
     "text": [
      "<class 'pandas.core.frame.DataFrame'>\n",
      "RangeIndex: 3189 entries, 0 to 3188\n",
      "Data columns (total 3 columns):\n",
      "class    3189 non-null object\n",
      "id       3189 non-null object\n",
      "dna      3189 non-null object\n",
      "dtypes: object(3)\n",
      "memory usage: 74.8+ KB\n"
     ]
    }
   ],
   "source": [
    "df = pp.splice_from_file(\"data/splice_orig.csv\")\n",
    "df.info()"
   ]
  },
  {
   "cell_type": "markdown",
   "metadata": {},
   "source": [
    "DataFrame head functions show first couple of rows"
   ]
  },
  {
   "cell_type": "code",
   "execution_count": 3,
   "metadata": {},
   "outputs": [
    {
     "data": {
      "text/html": [
       "<div>\n",
       "<style scoped>\n",
       "    .dataframe tbody tr th:only-of-type {\n",
       "        vertical-align: middle;\n",
       "    }\n",
       "\n",
       "    .dataframe tbody tr th {\n",
       "        vertical-align: top;\n",
       "    }\n",
       "\n",
       "    .dataframe thead th {\n",
       "        text-align: right;\n",
       "    }\n",
       "</style>\n",
       "<table border=\"1\" class=\"dataframe\">\n",
       "  <thead>\n",
       "    <tr style=\"text-align: right;\">\n",
       "      <th></th>\n",
       "      <th>class</th>\n",
       "      <th>dna_1</th>\n",
       "      <th>dna_2</th>\n",
       "      <th>dna_3</th>\n",
       "      <th>dna_4</th>\n",
       "      <th>dna_5</th>\n",
       "      <th>dna_6</th>\n",
       "      <th>dna_7</th>\n",
       "      <th>dna_8</th>\n",
       "      <th>dna_9</th>\n",
       "      <th>...</th>\n",
       "      <th>dna_51</th>\n",
       "      <th>dna_52</th>\n",
       "      <th>dna_53</th>\n",
       "      <th>dna_54</th>\n",
       "      <th>dna_55</th>\n",
       "      <th>dna_56</th>\n",
       "      <th>dna_57</th>\n",
       "      <th>dna_58</th>\n",
       "      <th>dna_59</th>\n",
       "      <th>dna_60</th>\n",
       "    </tr>\n",
       "  </thead>\n",
       "  <tbody>\n",
       "    <tr>\n",
       "      <th>0</th>\n",
       "      <td>EI</td>\n",
       "      <td>A</td>\n",
       "      <td>G</td>\n",
       "      <td>A</td>\n",
       "      <td>C</td>\n",
       "      <td>C</td>\n",
       "      <td>C</td>\n",
       "      <td>G</td>\n",
       "      <td>C</td>\n",
       "      <td>C</td>\n",
       "      <td>...</td>\n",
       "      <td>G</td>\n",
       "      <td>T</td>\n",
       "      <td>G</td>\n",
       "      <td>C</td>\n",
       "      <td>C</td>\n",
       "      <td>C</td>\n",
       "      <td>C</td>\n",
       "      <td>C</td>\n",
       "      <td>G</td>\n",
       "      <td>C</td>\n",
       "    </tr>\n",
       "    <tr>\n",
       "      <th>1</th>\n",
       "      <td>EI</td>\n",
       "      <td>G</td>\n",
       "      <td>A</td>\n",
       "      <td>G</td>\n",
       "      <td>G</td>\n",
       "      <td>T</td>\n",
       "      <td>G</td>\n",
       "      <td>A</td>\n",
       "      <td>A</td>\n",
       "      <td>G</td>\n",
       "      <td>...</td>\n",
       "      <td>C</td>\n",
       "      <td>A</td>\n",
       "      <td>C</td>\n",
       "      <td>G</td>\n",
       "      <td>G</td>\n",
       "      <td>G</td>\n",
       "      <td>G</td>\n",
       "      <td>A</td>\n",
       "      <td>T</td>\n",
       "      <td>G</td>\n",
       "    </tr>\n",
       "    <tr>\n",
       "      <th>2</th>\n",
       "      <td>EI</td>\n",
       "      <td>G</td>\n",
       "      <td>G</td>\n",
       "      <td>G</td>\n",
       "      <td>C</td>\n",
       "      <td>T</td>\n",
       "      <td>G</td>\n",
       "      <td>C</td>\n",
       "      <td>G</td>\n",
       "      <td>T</td>\n",
       "      <td>...</td>\n",
       "      <td>G</td>\n",
       "      <td>G</td>\n",
       "      <td>T</td>\n",
       "      <td>T</td>\n",
       "      <td>T</td>\n",
       "      <td>T</td>\n",
       "      <td>C</td>\n",
       "      <td>C</td>\n",
       "      <td>C</td>\n",
       "      <td>C</td>\n",
       "    </tr>\n",
       "    <tr>\n",
       "      <th>3</th>\n",
       "      <td>EI</td>\n",
       "      <td>G</td>\n",
       "      <td>C</td>\n",
       "      <td>T</td>\n",
       "      <td>C</td>\n",
       "      <td>A</td>\n",
       "      <td>G</td>\n",
       "      <td>C</td>\n",
       "      <td>C</td>\n",
       "      <td>C</td>\n",
       "      <td>...</td>\n",
       "      <td>C</td>\n",
       "      <td>C</td>\n",
       "      <td>T</td>\n",
       "      <td>T</td>\n",
       "      <td>G</td>\n",
       "      <td>A</td>\n",
       "      <td>C</td>\n",
       "      <td>C</td>\n",
       "      <td>C</td>\n",
       "      <td>T</td>\n",
       "    </tr>\n",
       "    <tr>\n",
       "      <th>4</th>\n",
       "      <td>EI</td>\n",
       "      <td>C</td>\n",
       "      <td>A</td>\n",
       "      <td>G</td>\n",
       "      <td>A</td>\n",
       "      <td>C</td>\n",
       "      <td>T</td>\n",
       "      <td>G</td>\n",
       "      <td>G</td>\n",
       "      <td>G</td>\n",
       "      <td>...</td>\n",
       "      <td>G</td>\n",
       "      <td>A</td>\n",
       "      <td>G</td>\n",
       "      <td>A</td>\n",
       "      <td>C</td>\n",
       "      <td>C</td>\n",
       "      <td>A</td>\n",
       "      <td>C</td>\n",
       "      <td>A</td>\n",
       "      <td>G</td>\n",
       "    </tr>\n",
       "  </tbody>\n",
       "</table>\n",
       "<p>5 rows × 61 columns</p>\n",
       "</div>"
      ],
      "text/plain": [
       "  class dna_1 dna_2 dna_3 dna_4 dna_5 dna_6 dna_7 dna_8 dna_9  ...   dna_51  \\\n",
       "0    EI     A     G     A     C     C     C     G     C     C  ...        G   \n",
       "1    EI     G     A     G     G     T     G     A     A     G  ...        C   \n",
       "2    EI     G     G     G     C     T     G     C     G     T  ...        G   \n",
       "3    EI     G     C     T     C     A     G     C     C     C  ...        C   \n",
       "4    EI     C     A     G     A     C     T     G     G     G  ...        G   \n",
       "\n",
       "  dna_52 dna_53 dna_54 dna_55 dna_56 dna_57 dna_58 dna_59 dna_60  \n",
       "0      T      G      C      C      C      C      C      G      C  \n",
       "1      A      C      G      G      G      G      A      T      G  \n",
       "2      G      T      T      T      T      C      C      C      C  \n",
       "3      C      T      T      G      A      C      C      C      T  \n",
       "4      A      G      A      C      C      A      C      A      G  \n",
       "\n",
       "[5 rows x 61 columns]"
      ]
     },
     "execution_count": 3,
     "metadata": {},
     "output_type": "execute_result"
    }
   ],
   "source": [
    "df_split = pp.split_features(df)\n",
    "df_split.head()"
   ]
  },
  {
   "cell_type": "markdown",
   "metadata": {},
   "source": [
    "Most of the values are A, C, T, G. Other values are in negligible quantities."
   ]
  },
  {
   "cell_type": "code",
   "execution_count": 4,
   "metadata": {},
   "outputs": [
    {
     "data": {
      "text/plain": [
       "C    0.262784\n",
       "G    0.262496\n",
       "T    0.241967\n",
       "A    0.232440\n",
       "N    0.000293\n",
       "D    0.000010\n",
       "R    0.000005\n",
       "S    0.000005\n",
       "dtype: float64"
      ]
     },
     "execution_count": 4,
     "metadata": {},
     "output_type": "execute_result"
    }
   ],
   "source": [
    "df_split_X, df_split_y = pp.separate_feature_class(df_split)\n",
    "pp.count_unique_percent(df_split_X)"
   ]
  },
  {
   "cell_type": "code",
   "execution_count": 5,
   "metadata": {
    "collapsed": true
   },
   "outputs": [],
   "source": [
    "odd_rows_dict = pp.get_odd_nucleotide_rows(df_split_X)\n",
    "df_filt = pp.remove_odd_nucleotide_rows(df_split, odd_rows_dict)\n",
    "df_filt_X, df_filt_y = pp.separate_feature_class(df_filt)"
   ]
  },
  {
   "cell_type": "code",
   "execution_count": 6,
   "metadata": {},
   "outputs": [
    {
     "data": {
      "text/html": [
       "<div>\n",
       "<style scoped>\n",
       "    .dataframe tbody tr th:only-of-type {\n",
       "        vertical-align: middle;\n",
       "    }\n",
       "\n",
       "    .dataframe tbody tr th {\n",
       "        vertical-align: top;\n",
       "    }\n",
       "\n",
       "    .dataframe thead th {\n",
       "        text-align: right;\n",
       "    }\n",
       "</style>\n",
       "<table border=\"1\" class=\"dataframe\">\n",
       "  <thead>\n",
       "    <tr style=\"text-align: right;\">\n",
       "      <th></th>\n",
       "      <th>class</th>\n",
       "      <th>dna_2_A</th>\n",
       "      <th>dna_2_C</th>\n",
       "      <th>dna_2_G</th>\n",
       "      <th>dna_2_T</th>\n",
       "      <th>dna_29_A</th>\n",
       "      <th>dna_29_C</th>\n",
       "      <th>dna_29_G</th>\n",
       "      <th>dna_29_T</th>\n",
       "    </tr>\n",
       "  </thead>\n",
       "  <tbody>\n",
       "    <tr>\n",
       "      <th>0</th>\n",
       "      <td>EI</td>\n",
       "      <td>176</td>\n",
       "      <td>229</td>\n",
       "      <td>195</td>\n",
       "      <td>161</td>\n",
       "      <td>443</td>\n",
       "      <td>106</td>\n",
       "      <td>113</td>\n",
       "      <td>99</td>\n",
       "    </tr>\n",
       "    <tr>\n",
       "      <th>1</th>\n",
       "      <td>IE</td>\n",
       "      <td>162</td>\n",
       "      <td>235</td>\n",
       "      <td>172</td>\n",
       "      <td>196</td>\n",
       "      <td>762</td>\n",
       "      <td>1</td>\n",
       "      <td>1</td>\n",
       "      <td>1</td>\n",
       "    </tr>\n",
       "    <tr>\n",
       "      <th>2</th>\n",
       "      <td>N</td>\n",
       "      <td>437</td>\n",
       "      <td>389</td>\n",
       "      <td>423</td>\n",
       "      <td>399</td>\n",
       "      <td>400</td>\n",
       "      <td>425</td>\n",
       "      <td>409</td>\n",
       "      <td>414</td>\n",
       "    </tr>\n",
       "  </tbody>\n",
       "</table>\n",
       "</div>"
      ],
      "text/plain": [
       "  class  dna_2_A  dna_2_C  dna_2_G  dna_2_T  dna_29_A  dna_29_C  dna_29_G  \\\n",
       "0    EI      176      229      195      161       443       106       113   \n",
       "1    IE      162      235      172      196       762         1         1   \n",
       "2     N      437      389      423      399       400       425       409   \n",
       "\n",
       "   dna_29_T  \n",
       "0        99  \n",
       "1         1  \n",
       "2       414  "
      ]
     },
     "execution_count": 6,
     "metadata": {},
     "output_type": "execute_result"
    }
   ],
   "source": [
    "cols_dna = pp.get_split_col_names()\n",
    "df_groupby_class = pd.get_dummies(df_filt, columns=cols_dna).groupby(['class']).sum(axis=0)\n",
    "\n",
    "df_groupby_class.reset_index(level=0, inplace=True)\n",
    "df_groupby_class.iloc[:, [0, 5, 6, 7, 8, 113, 114, 115, 116]]"
   ]
  },
  {
   "cell_type": "markdown",
   "metadata": {
    "collapsed": true
   },
   "source": [
    "# Visual data information"
   ]
  },
  {
   "cell_type": "code",
   "execution_count": 7,
   "metadata": {},
   "outputs": [
    {
     "data": {
      "image/png": "[encoded data removed]",
      "text/plain": [
       "<matplotlib.figure.Figure at 0x7ff86dac02e8>"
      ]
     },
     "metadata": {},
     "output_type": "display_data"
    }
   ],
   "source": [
    "hue_order = df_filt['class'].unique()\n",
    "ax = sns.countplot(x='class', data=df_filt, order=hue_order)\n",
    "ax.set(xlabel='', ylabel='Broj uzoraka')\n",
    "plt.savefig(\"images/dataset_class_dist.png\")"
   ]
  },
  {
   "cell_type": "code",
   "execution_count": 8,
   "metadata": {},
   "outputs": [
    {
     "data": {
      "text/html": [
       "<div>\n",
       "<style scoped>\n",
       "    .dataframe tbody tr th:only-of-type {\n",
       "        vertical-align: middle;\n",
       "    }\n",
       "\n",
       "    .dataframe tbody tr th {\n",
       "        vertical-align: top;\n",
       "    }\n",
       "\n",
       "    .dataframe thead th {\n",
       "        text-align: right;\n",
       "    }\n",
       "</style>\n",
       "<table border=\"1\" class=\"dataframe\">\n",
       "  <thead>\n",
       "    <tr style=\"text-align: right;\">\n",
       "      <th></th>\n",
       "      <th>class</th>\n",
       "      <th>dna_1</th>\n",
       "      <th>dna_2</th>\n",
       "      <th>dna_3</th>\n",
       "      <th>dna_4</th>\n",
       "      <th>dna_5</th>\n",
       "      <th>dna_6</th>\n",
       "      <th>dna_7</th>\n",
       "      <th>dna_8</th>\n",
       "      <th>dna_9</th>\n",
       "      <th>...</th>\n",
       "      <th>dna_51</th>\n",
       "      <th>dna_52</th>\n",
       "      <th>dna_53</th>\n",
       "      <th>dna_54</th>\n",
       "      <th>dna_55</th>\n",
       "      <th>dna_56</th>\n",
       "      <th>dna_57</th>\n",
       "      <th>dna_58</th>\n",
       "      <th>dna_59</th>\n",
       "      <th>dna_60</th>\n",
       "    </tr>\n",
       "  </thead>\n",
       "  <tbody>\n",
       "    <tr>\n",
       "      <th>718</th>\n",
       "      <td>EI</td>\n",
       "      <td>G</td>\n",
       "      <td>C</td>\n",
       "      <td>T</td>\n",
       "      <td>G</td>\n",
       "      <td>G</td>\n",
       "      <td>G</td>\n",
       "      <td>C</td>\n",
       "      <td>C</td>\n",
       "      <td>T</td>\n",
       "      <td>...</td>\n",
       "      <td>A</td>\n",
       "      <td>G</td>\n",
       "      <td>G</td>\n",
       "      <td>G</td>\n",
       "      <td>A</td>\n",
       "      <td>T</td>\n",
       "      <td>T</td>\n",
       "      <td>C</td>\n",
       "      <td>C</td>\n",
       "      <td>C</td>\n",
       "    </tr>\n",
       "    <tr>\n",
       "      <th>2861</th>\n",
       "      <td>N</td>\n",
       "      <td>G</td>\n",
       "      <td>C</td>\n",
       "      <td>T</td>\n",
       "      <td>T</td>\n",
       "      <td>G</td>\n",
       "      <td>A</td>\n",
       "      <td>T</td>\n",
       "      <td>G</td>\n",
       "      <td>T</td>\n",
       "      <td>...</td>\n",
       "      <td>C</td>\n",
       "      <td>T</td>\n",
       "      <td>T</td>\n",
       "      <td>T</td>\n",
       "      <td>C</td>\n",
       "      <td>T</td>\n",
       "      <td>C</td>\n",
       "      <td>C</td>\n",
       "      <td>A</td>\n",
       "      <td>A</td>\n",
       "    </tr>\n",
       "    <tr>\n",
       "      <th>2461</th>\n",
       "      <td>N</td>\n",
       "      <td>G</td>\n",
       "      <td>G</td>\n",
       "      <td>C</td>\n",
       "      <td>G</td>\n",
       "      <td>C</td>\n",
       "      <td>G</td>\n",
       "      <td>C</td>\n",
       "      <td>T</td>\n",
       "      <td>G</td>\n",
       "      <td>...</td>\n",
       "      <td>G</td>\n",
       "      <td>T</td>\n",
       "      <td>G</td>\n",
       "      <td>T</td>\n",
       "      <td>A</td>\n",
       "      <td>T</td>\n",
       "      <td>G</td>\n",
       "      <td>C</td>\n",
       "      <td>A</td>\n",
       "      <td>G</td>\n",
       "    </tr>\n",
       "    <tr>\n",
       "      <th>2321</th>\n",
       "      <td>N</td>\n",
       "      <td>T</td>\n",
       "      <td>C</td>\n",
       "      <td>A</td>\n",
       "      <td>T</td>\n",
       "      <td>A</td>\n",
       "      <td>A</td>\n",
       "      <td>A</td>\n",
       "      <td>A</td>\n",
       "      <td>C</td>\n",
       "      <td>...</td>\n",
       "      <td>G</td>\n",
       "      <td>A</td>\n",
       "      <td>C</td>\n",
       "      <td>A</td>\n",
       "      <td>A</td>\n",
       "      <td>G</td>\n",
       "      <td>G</td>\n",
       "      <td>T</td>\n",
       "      <td>C</td>\n",
       "      <td>T</td>\n",
       "    </tr>\n",
       "    <tr>\n",
       "      <th>1737</th>\n",
       "      <td>N</td>\n",
       "      <td>G</td>\n",
       "      <td>A</td>\n",
       "      <td>A</td>\n",
       "      <td>T</td>\n",
       "      <td>G</td>\n",
       "      <td>G</td>\n",
       "      <td>T</td>\n",
       "      <td>G</td>\n",
       "      <td>T</td>\n",
       "      <td>...</td>\n",
       "      <td>G</td>\n",
       "      <td>T</td>\n",
       "      <td>C</td>\n",
       "      <td>A</td>\n",
       "      <td>A</td>\n",
       "      <td>G</td>\n",
       "      <td>T</td>\n",
       "      <td>T</td>\n",
       "      <td>G</td>\n",
       "      <td>T</td>\n",
       "    </tr>\n",
       "  </tbody>\n",
       "</table>\n",
       "<p>5 rows × 61 columns</p>\n",
       "</div>"
      ],
      "text/plain": [
       "     class dna_1 dna_2 dna_3 dna_4 dna_5 dna_6 dna_7 dna_8 dna_9  ...    \\\n",
       "718     EI     G     C     T     G     G     G     C     C     T  ...     \n",
       "2861     N     G     C     T     T     G     A     T     G     T  ...     \n",
       "2461     N     G     G     C     G     C     G     C     T     G  ...     \n",
       "2321     N     T     C     A     T     A     A     A     A     C  ...     \n",
       "1737     N     G     A     A     T     G     G     T     G     T  ...     \n",
       "\n",
       "     dna_51 dna_52 dna_53 dna_54 dna_55 dna_56 dna_57 dna_58 dna_59 dna_60  \n",
       "718       A      G      G      G      A      T      T      C      C      C  \n",
       "2861      C      T      T      T      C      T      C      C      A      A  \n",
       "2461      G      T      G      T      A      T      G      C      A      G  \n",
       "2321      G      A      C      A      A      G      G      T      C      T  \n",
       "1737      G      T      C      A      A      G      T      T      G      T  \n",
       "\n",
       "[5 rows x 61 columns]"
      ]
     },
     "execution_count": 8,
     "metadata": {},
     "output_type": "execute_result"
    }
   ],
   "source": [
    "\n",
    "df_train, df_test = model_selection.train_test_split(df_filt, test_size=0.2, stratify=df_filt['class'], random_state=22)\n",
    "\n",
    "df_train.to_csv(\"data/splice_train.csv\", index=False)\n",
    "df_test.to_csv(\"data/splice_test.csv\", index=False)\n",
    "df_train.head()"
   ]
  },
  {
   "cell_type": "code",
   "execution_count": 9,
   "metadata": {},
   "outputs": [
    {
     "data": {
      "text/html": [
       "<div>\n",
       "<style scoped>\n",
       "    .dataframe tbody tr th:only-of-type {\n",
       "        vertical-align: middle;\n",
       "    }\n",
       "\n",
       "    .dataframe tbody tr th {\n",
       "        vertical-align: top;\n",
       "    }\n",
       "\n",
       "    .dataframe thead th {\n",
       "        text-align: right;\n",
       "    }\n",
       "</style>\n",
       "<table border=\"1\" class=\"dataframe\">\n",
       "  <thead>\n",
       "    <tr style=\"text-align: right;\">\n",
       "      <th></th>\n",
       "      <th>class</th>\n",
       "      <th>dna_1</th>\n",
       "      <th>dna_2</th>\n",
       "      <th>dna_3</th>\n",
       "      <th>dna_4</th>\n",
       "      <th>dna_5</th>\n",
       "      <th>dna_6</th>\n",
       "      <th>dna_7</th>\n",
       "      <th>dna_8</th>\n",
       "      <th>dna_9</th>\n",
       "      <th>...</th>\n",
       "      <th>dna_51</th>\n",
       "      <th>dna_52</th>\n",
       "      <th>dna_53</th>\n",
       "      <th>dna_54</th>\n",
       "      <th>dna_55</th>\n",
       "      <th>dna_56</th>\n",
       "      <th>dna_57</th>\n",
       "      <th>dna_58</th>\n",
       "      <th>dna_59</th>\n",
       "      <th>dna_60</th>\n",
       "    </tr>\n",
       "  </thead>\n",
       "  <tbody>\n",
       "    <tr>\n",
       "      <th>3084</th>\n",
       "      <td>N</td>\n",
       "      <td>C</td>\n",
       "      <td>A</td>\n",
       "      <td>C</td>\n",
       "      <td>T</td>\n",
       "      <td>T</td>\n",
       "      <td>G</td>\n",
       "      <td>A</td>\n",
       "      <td>G</td>\n",
       "      <td>C</td>\n",
       "      <td>...</td>\n",
       "      <td>C</td>\n",
       "      <td>A</td>\n",
       "      <td>T</td>\n",
       "      <td>T</td>\n",
       "      <td>T</td>\n",
       "      <td>C</td>\n",
       "      <td>A</td>\n",
       "      <td>A</td>\n",
       "      <td>C</td>\n",
       "      <td>C</td>\n",
       "    </tr>\n",
       "    <tr>\n",
       "      <th>2388</th>\n",
       "      <td>N</td>\n",
       "      <td>C</td>\n",
       "      <td>C</td>\n",
       "      <td>T</td>\n",
       "      <td>T</td>\n",
       "      <td>T</td>\n",
       "      <td>T</td>\n",
       "      <td>C</td>\n",
       "      <td>T</td>\n",
       "      <td>T</td>\n",
       "      <td>...</td>\n",
       "      <td>G</td>\n",
       "      <td>C</td>\n",
       "      <td>T</td>\n",
       "      <td>C</td>\n",
       "      <td>T</td>\n",
       "      <td>G</td>\n",
       "      <td>C</td>\n",
       "      <td>T</td>\n",
       "      <td>T</td>\n",
       "      <td>C</td>\n",
       "    </tr>\n",
       "    <tr>\n",
       "      <th>2855</th>\n",
       "      <td>N</td>\n",
       "      <td>C</td>\n",
       "      <td>C</td>\n",
       "      <td>T</td>\n",
       "      <td>C</td>\n",
       "      <td>C</td>\n",
       "      <td>C</td>\n",
       "      <td>C</td>\n",
       "      <td>C</td>\n",
       "      <td>T</td>\n",
       "      <td>...</td>\n",
       "      <td>T</td>\n",
       "      <td>G</td>\n",
       "      <td>G</td>\n",
       "      <td>C</td>\n",
       "      <td>C</td>\n",
       "      <td>A</td>\n",
       "      <td>T</td>\n",
       "      <td>C</td>\n",
       "      <td>C</td>\n",
       "      <td>C</td>\n",
       "    </tr>\n",
       "    <tr>\n",
       "      <th>2901</th>\n",
       "      <td>N</td>\n",
       "      <td>A</td>\n",
       "      <td>G</td>\n",
       "      <td>G</td>\n",
       "      <td>A</td>\n",
       "      <td>A</td>\n",
       "      <td>G</td>\n",
       "      <td>G</td>\n",
       "      <td>G</td>\n",
       "      <td>G</td>\n",
       "      <td>...</td>\n",
       "      <td>C</td>\n",
       "      <td>G</td>\n",
       "      <td>A</td>\n",
       "      <td>G</td>\n",
       "      <td>G</td>\n",
       "      <td>T</td>\n",
       "      <td>C</td>\n",
       "      <td>T</td>\n",
       "      <td>G</td>\n",
       "      <td>G</td>\n",
       "    </tr>\n",
       "    <tr>\n",
       "      <th>2717</th>\n",
       "      <td>N</td>\n",
       "      <td>A</td>\n",
       "      <td>G</td>\n",
       "      <td>A</td>\n",
       "      <td>C</td>\n",
       "      <td>T</td>\n",
       "      <td>G</td>\n",
       "      <td>G</td>\n",
       "      <td>A</td>\n",
       "      <td>A</td>\n",
       "      <td>...</td>\n",
       "      <td>A</td>\n",
       "      <td>G</td>\n",
       "      <td>C</td>\n",
       "      <td>A</td>\n",
       "      <td>T</td>\n",
       "      <td>G</td>\n",
       "      <td>T</td>\n",
       "      <td>T</td>\n",
       "      <td>T</td>\n",
       "      <td>T</td>\n",
       "    </tr>\n",
       "  </tbody>\n",
       "</table>\n",
       "<p>5 rows × 61 columns</p>\n",
       "</div>"
      ],
      "text/plain": [
       "     class dna_1 dna_2 dna_3 dna_4 dna_5 dna_6 dna_7 dna_8 dna_9  ...    \\\n",
       "3084     N     C     A     C     T     T     G     A     G     C  ...     \n",
       "2388     N     C     C     T     T     T     T     C     T     T  ...     \n",
       "2855     N     C     C     T     C     C     C     C     C     T  ...     \n",
       "2901     N     A     G     G     A     A     G     G     G     G  ...     \n",
       "2717     N     A     G     A     C     T     G     G     A     A  ...     \n",
       "\n",
       "     dna_51 dna_52 dna_53 dna_54 dna_55 dna_56 dna_57 dna_58 dna_59 dna_60  \n",
       "3084      C      A      T      T      T      C      A      A      C      C  \n",
       "2388      G      C      T      C      T      G      C      T      T      C  \n",
       "2855      T      G      G      C      C      A      T      C      C      C  \n",
       "2901      C      G      A      G      G      T      C      T      G      G  \n",
       "2717      A      G      C      A      T      G      T      T      T      T  \n",
       "\n",
       "[5 rows x 61 columns]"
      ]
     },
     "execution_count": 9,
     "metadata": {},
     "output_type": "execute_result"
    }
   ],
   "source": [
    "df_test.head()"
   ]
  },
  {
   "cell_type": "code",
   "execution_count": 10,
   "metadata": {},
   "outputs": [
    {
     "data": {
      "image/png": "[encoded data removed]",
      "text/plain": [
       "<matplotlib.figure.Figure at 0x7ff86da27ba8>"
      ]
     },
     "metadata": {},
     "output_type": "display_data"
    }
   ],
   "source": [
    "ax = sns.countplot(x='class', data=df_train, order = hue_order)\n",
    "ax.set(xlabel='', ylabel='Broj uzoraka')\n",
    "plt.savefig(\"images/trainset_class_dist.jpg\")"
   ]
  },
  {
   "cell_type": "code",
   "execution_count": 11,
   "metadata": {},
   "outputs": [
    {
     "data": {
      "image/png": "[encoded data removed]",
      "text/plain": [
       "<matplotlib.figure.Figure at 0x7ff86d9cf978>"
      ]
     },
     "metadata": {},
     "output_type": "display_data"
    }
   ],
   "source": [
    "ax = sns.countplot(x='class', data=df_test, order=hue_order)\n",
    "ax.set(xlabel='', ylabel='Broj uzoraka')\n",
    "plt.savefig(\"images/testset_class_dist.jpg\")"
   ]
  },
  {
   "cell_type": "code",
   "execution_count": 12,
   "metadata": {},
   "outputs": [
    {
     "data": {
      "text/plain": [
       "[<matplotlib.text.Text at 0x7ff86d828278>,\n",
       " <matplotlib.text.Text at 0x7ff86d8c2208>]"
      ]
     },
     "execution_count": 12,
     "metadata": {},
     "output_type": "execute_result"
    },
    {
     "data": {
      "image/png": "[encoded data removed]",
      "text/plain": [
       "<matplotlib.figure.Figure at 0x7ff86d8c7b00>"
      ]
     },
     "metadata": {},
     "output_type": "display_data"
    }
   ],
   "source": [
    "ax = df_groupby_class.set_index('class').T.plot(kind='bar', stacked=True)\n",
    "ax.set(xlabel='', ylabel='Broj uzoraka')"
   ]
  },
  {
   "cell_type": "code",
   "execution_count": 13,
   "metadata": {},
   "outputs": [
    {
     "data": {
      "text/plain": [
       "<matplotlib.figure.Figure at 0x7ff86d7f9518>"
      ]
     },
     "metadata": {},
     "output_type": "display_data"
    }
   ],
   "source": [
    "plt.savefig(\"images/nucleotids_byclass.jpg\")"
   ]
  },
  {
   "cell_type": "markdown",
   "metadata": {},
   "source": [
    "# Weka attribute selection"
   ]
  },
  {
   "cell_type": "code",
   "execution_count": 14,
   "metadata": {},
   "outputs": [
    {
     "name": "stdout",
     "output_type": "stream",
     "text": [
      "['dna_30', 'dna_29', 'dna_32', 'dna_31', 'dna_35', 'dna_28', 'dna_34', 'dna_33', 'dna_25', 'dna_26', 'dna_24', 'dna_20', 'dna_23', 'dna_21', 'dna_22', 'dna_19', 'dna_18', 'dna_16', 'dna_17', 'dna_15', 'dna_36', 'dna_13', 'dna_10', 'dna_9', 'dna_14', 'dna_12', 'dna_41', 'dna_6', 'dna_5', 'dna_46', 'dna_60', 'dna_54', 'dna_55', 'dna_37', 'dna_47', 'dna_11', 'dna_43', 'dna_4', 'dna_40', 'dna_58', 'dna_38', 'dna_50', 'dna_49', 'dna_48', 'dna_7', 'dna_39', 'dna_2', 'dna_42', 'dna_1', 'dna_56', 'dna_8', 'dna_45', 'dna_27', 'dna_44', 'dna_52', 'dna_59', 'dna_51', 'dna_57', 'dna_3', 'dna_53']\n"
     ]
    }
   ],
   "source": [
    "chi2_attributes = []\n",
    "with open(\"data/chi2_attributes.txt\") as f:\n",
    "    for line in f:\n",
    "        res = \"\".join(word for word in line.strip().split(' ') if word.startswith('dna_'))\n",
    "        if res:\n",
    "            chi2_attributes.append(res)\n",
    "        \n",
    "print(chi2_attributes)\n",
    "        "
   ]
  },
  {
   "cell_type": "code",
   "execution_count": 15,
   "metadata": {},
   "outputs": [
    {
     "name": "stdout",
     "output_type": "stream",
     "text": [
      "['dna_5', 'dna_11', 'dna_21', 'dna_28', 'dna_29', 'dna_30', 'dna_31', 'dna_32', 'dna_33', 'dna_35', 'dna_38', 'dna_44', 'dna_48']\n"
     ]
    }
   ],
   "source": [
    "mp_attributes = []\n",
    "with open(\"data/mp_attributes.txt\") as f:\n",
    "    for line in f:\n",
    "        res = \"\".join(word for word in line.strip().split(' ') if word.startswith('dna_'))\n",
    "        if res:\n",
    "            mp_attributes.append(res)\n",
    "print(mp_attributes)"
   ]
  },
  {
   "cell_type": "code",
   "execution_count": 65,
   "metadata": {},
   "outputs": [],
   "source": [
    "chi2_attr_idx = [int(word[4:]) for word in chi2_attributes]\n",
    "zipped = zip (chi2_attr_idx, list(range(len(chi2_attributes),0,-1)))\n",
    "zipped = sorted(zipped, key=lambda x: x[0])\n",
    "unzip = list(zip(*zipped))\n",
    "mp_attr_idx = [int(word[4:]) for word in mp_attributes]\n",
    "mp_attr_y = np.array(unzip[1])[np.array(mp_attr_idx)-1]\n",
    "#print(mp_attr_idx)\n",
    "#print(unzip[0])\n",
    "#print(unzip[1])\n"
   ]
  },
  {
   "cell_type": "code",
   "execution_count": 118,
   "metadata": {},
   "outputs": [
    {
     "name": "stdout",
     "output_type": "stream",
     "text": [
      "[ 4 10 20 27 28 29 30 31 32 34 37 43 47]\n"
     ]
    },
    {
     "data": {
      "image/png": "[encoded data removed]",
      "text/plain": [
       "<matplotlib.figure.Figure at 0x7ff869b3beb8>"
      ]
     },
     "metadata": {},
     "output_type": "display_data"
    }
   ],
   "source": [
    "\n",
    "fig, ax = plt.subplots(figsize=(7,5))\n",
    "ax.bar(unzip[0], unzip[1], width=0.6, color='green')\n",
    "ax.set_ylabel(\"Hi-kvadrat rang\")\n",
    "ax.set_xlabel(\"Indeks atributa\")\n",
    "ax.axhline(50.1, c ='orange', label='Top10')\n",
    "ax.axhline(40.1, c ='brown', label='Top20')\n",
    "ax.bar(mp_attr_idx, mp_attr_y, width=0.6, color='red')\n",
    "ax.yaxis.grid(which=\"major\", color='k', linestyle='--', linewidth=0.7)\n",
    "ax.set_xlim(right=61)\n",
    "plt.legend()\n",
    "fig.tight_layout()\n",
    "plt.savefig(\"images/attributes.png\", bbox_inches='tight')\n",
    "\n",
    "print(np.array(mp_attr_idx)-1)"
   ]
  },
  {
   "cell_type": "code",
   "execution_count": 16,
   "metadata": {
    "collapsed": true
   },
   "outputs": [],
   "source": [
    "def attribute_selection(df_train, df_test, attributes, N):\n",
    "    attr_slice = attributes[0:N]\n",
    "    attr_slice.append('class')\n",
    "    return df_train[attr_slice], df_test[attr_slice]"
   ]
  },
  {
   "cell_type": "code",
   "execution_count": 19,
   "metadata": {
    "collapsed": true
   },
   "outputs": [],
   "source": [
    "top10_chi2_train, top10_chi2_test = attribute_selection(df_train, df_test, chi2_attributes, 10)\n",
    "top20_chi2_train, top20_chi2_test = attribute_selection(df_train, df_test, chi2_attributes, 20)"
   ]
  },
  {
   "cell_type": "code",
   "execution_count": 21,
   "metadata": {
    "collapsed": true
   },
   "outputs": [],
   "source": [
    "top10_chi2_train.to_csv(\"data/top10_ch2_train.csv\", index=False)\n",
    "top10_chi2_test.to_csv(\"data/top10_ch2_test.csv\", index=False)\n",
    "top20_chi2_train.to_csv(\"data/top20_ch2_train.csv\", index=False)\n",
    "top20_chi2_test.to_csv(\"data/top20_ch2_test.csv\", index=False)"
   ]
  },
  {
   "cell_type": "code",
   "execution_count": 24,
   "metadata": {
    "collapsed": true
   },
   "outputs": [],
   "source": [
    "mp_train, mp_test = attribute_selection(df_train, df_test, mp_attributes, len(mp_attributes))"
   ]
  },
  {
   "cell_type": "code",
   "execution_count": 25,
   "metadata": {
    "collapsed": true
   },
   "outputs": [],
   "source": [
    "mp_train.to_csv(\"data/mp_train.csv\", index=False)\n",
    "mp_test.to_csv(\"data/mp_test.csv\", index=False)"
   ]
  }
 ],
 "metadata": {
  "kernelspec": {
   "display_name": "Python 3",
   "language": "python",
   "name": "python3"
  },
  "language_info": {
   "codemirror_mode": {
    "name": "ipython",
    "version": 3
   },
   "file_extension": ".py",
   "mimetype": "text/x-python",
   "name": "python",
   "nbconvert_exporter": "python",
   "pygments_lexer": "ipython3",
   "version": "3.5.2"
  }
 },
 "nbformat": 4,
 "nbformat_minor": 2
}
